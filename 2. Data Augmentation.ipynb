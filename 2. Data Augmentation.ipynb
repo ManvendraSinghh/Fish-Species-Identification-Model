{
 "cells": [
  {
   "cell_type": "code",
   "execution_count": 7,
   "id": "636900f9-b662-472f-9c74-f1657fddcfa4",
   "metadata": {},
   "outputs": [],
   "source": [
    "import os\n",
    "import cv2\n",
    "import numpy as np\n",
    "from keras.preprocessing.image import ImageDataGenerator\n",
    "import albumentations as A\n",
    "from tqdm import tqdm"
   ]
  },
  {
   "cell_type": "code",
   "execution_count": 19,
   "id": "74c37266-ecbc-4b05-a78a-bc4ab5d080f9",
   "metadata": {},
   "outputs": [],
   "source": [
    "def augment_image(image):\n",
    "    transform = A.Compose([\n",
    "        A.HorizontalFlip(p=0.5),\n",
    "        A.VerticalFlip(p=0.5),\n",
    "        A.RandomBrightnessContrast(p=0.5),\n",
    "        A.Rotate(limit=20, p=0.5),\n",
    "        A.RandomScale(scale_limit=0.2, p=0.5),\n",
    "        A.Resize(height=224, width=224, p=1.0)\n",
    "    ])\n",
    "    augmented = transform(image=image)\n",
    "    return augmented['image']"
   ]
  },
  {
   "cell_type": "code",
   "execution_count": 21,
   "id": "85bd5ffe-3af7-46f4-82b5-1a97b3e381fc",
   "metadata": {},
   "outputs": [],
   "source": [
    "def generate_augmented_images(folder_path, target_count=1000):\n",
    "    image_files = [f for f in os.listdir(folder_path) if f.endswith(('.png', '.jpg', '.jpeg'))]\n",
    "    original_count = len(image_files)\n",
    "\n",
    "    if original_count >= target_count:\n",
    "        print(f\"Folder already has {original_count} images, no augmentation needed.\")\n",
    "        return\n",
    "    \n",
    "    print(f\"Generating augmented images for {folder_path}...\")\n",
    "\n",
    "    for i in tqdm(range(target_count - original_count)):\n",
    "        img_file = np.random.choice(image_files)\n",
    "        img_path = os.path.join(folder_path, img_file)\n",
    "        \n",
    "        image = cv2.imread(img_path)\n",
    "        image = cv2.cvtColor(image, cv2.COLOR_BGR2RGB)\n",
    "        \n",
    "        # Apply Albumentations augmentation\n",
    "        aug_image = augment_image(image)\n",
    "        \n",
    "        # Save the augmented image\n",
    "        new_filename = os.path.join(folder_path, f'aug_{i + original_count}.png')\n",
    "        cv2.imwrite(new_filename, cv2.cvtColor(aug_image, cv2.COLOR_RGB2BGR))"
   ]
  },
  {
   "cell_type": "code",
   "execution_count": 23,
   "id": "8db39014-2742-4c98-bb1d-d11c0ae17495",
   "metadata": {},
   "outputs": [],
   "source": [
    "base_folder = 'D:\\Masked Image Dataset'"
   ]
  },
  {
   "cell_type": "code",
   "execution_count": 25,
   "id": "eeb30b44-3c8a-464b-928b-7e5ab6585074",
   "metadata": {},
   "outputs": [
    {
     "name": "stdout",
     "output_type": "stream",
     "text": [
      "Generating augmented images for D:\\Masked Image Dataset\\Bangda Fish Masked...\n"
     ]
    },
    {
     "name": "stderr",
     "output_type": "stream",
     "text": [
      "100%|███████████████████████████████████████████████████████████████████████████████| 954/954 [00:06<00:00, 138.93it/s]\n"
     ]
    },
    {
     "name": "stdout",
     "output_type": "stream",
     "text": [
      "Generating augmented images for D:\\Masked Image Dataset\\Bhetki Masked...\n"
     ]
    },
    {
     "name": "stderr",
     "output_type": "stream",
     "text": [
      "100%|███████████████████████████████████████████████████████████████████████████████| 992/992 [00:07<00:00, 124.50it/s]\n"
     ]
    },
    {
     "name": "stdout",
     "output_type": "stream",
     "text": [
      "Generating augmented images for D:\\Masked Image Dataset\\Bombay Duck Masked...\n"
     ]
    },
    {
     "name": "stderr",
     "output_type": "stream",
     "text": [
      "100%|███████████████████████████████████████████████████████████████████████████████| 985/985 [00:07<00:00, 138.86it/s]\n"
     ]
    },
    {
     "name": "stdout",
     "output_type": "stream",
     "text": [
      "Generating augmented images for D:\\Masked Image Dataset\\Eel Fish Masked...\n"
     ]
    },
    {
     "name": "stderr",
     "output_type": "stream",
     "text": [
      "100%|███████████████████████████████████████████████████████████████████████████████| 977/977 [00:07<00:00, 137.11it/s]\n"
     ]
    },
    {
     "name": "stdout",
     "output_type": "stream",
     "text": [
      "Generating augmented images for D:\\Masked Image Dataset\\Hilsa Masked...\n"
     ]
    },
    {
     "name": "stderr",
     "output_type": "stream",
     "text": [
      "100%|███████████████████████████████████████████████████████████████████████████████| 976/976 [00:07<00:00, 134.60it/s]\n"
     ]
    },
    {
     "name": "stdout",
     "output_type": "stream",
     "text": [
      "Generating augmented images for D:\\Masked Image Dataset\\India Basa Masked...\n"
     ]
    },
    {
     "name": "stderr",
     "output_type": "stream",
     "text": [
      "100%|███████████████████████████████████████████████████████████████████████████████| 977/977 [00:06<00:00, 149.30it/s]\n"
     ]
    },
    {
     "name": "stdout",
     "output_type": "stream",
     "text": [
      "Generating augmented images for D:\\Masked Image Dataset\\Indian Anchovy Masked...\n"
     ]
    },
    {
     "name": "stderr",
     "output_type": "stream",
     "text": [
      "100%|███████████████████████████████████████████████████████████████████████████████| 976/976 [00:06<00:00, 154.00it/s]\n"
     ]
    },
    {
     "name": "stdout",
     "output_type": "stream",
     "text": [
      "Generating augmented images for D:\\Masked Image Dataset\\Indian Oil Sardine Masked...\n"
     ]
    },
    {
     "name": "stderr",
     "output_type": "stream",
     "text": [
      "100%|███████████████████████████████████████████████████████████████████████████████| 980/980 [00:06<00:00, 156.77it/s]\n"
     ]
    },
    {
     "name": "stdout",
     "output_type": "stream",
     "text": [
      "Generating augmented images for D:\\Masked Image Dataset\\Indian Salmon Masked...\n"
     ]
    },
    {
     "name": "stderr",
     "output_type": "stream",
     "text": [
      "100%|███████████████████████████████████████████████████████████████████████████████| 956/956 [00:05<00:00, 163.10it/s]\n"
     ]
    },
    {
     "name": "stdout",
     "output_type": "stream",
     "text": [
      "Generating augmented images for D:\\Masked Image Dataset\\Mackarel Masked...\n"
     ]
    },
    {
     "name": "stderr",
     "output_type": "stream",
     "text": [
      "100%|███████████████████████████████████████████████████████████████████████████████| 972/972 [00:06<00:00, 146.85it/s]\n"
     ]
    },
    {
     "name": "stdout",
     "output_type": "stream",
     "text": [
      "Generating augmented images for D:\\Masked Image Dataset\\Mangrove Red Snapper Masked...\n"
     ]
    },
    {
     "name": "stderr",
     "output_type": "stream",
     "text": [
      "100%|███████████████████████████████████████████████████████████████████████████████| 971/971 [00:08<00:00, 111.94it/s]\n"
     ]
    },
    {
     "name": "stdout",
     "output_type": "stream",
     "text": [
      "Generating augmented images for D:\\Masked Image Dataset\\Milkfish Masked...\n"
     ]
    },
    {
     "name": "stderr",
     "output_type": "stream",
     "text": [
      "100%|███████████████████████████████████████████████████████████████████████████████| 979/979 [00:06<00:00, 159.13it/s]\n"
     ]
    },
    {
     "name": "stdout",
     "output_type": "stream",
     "text": [
      "Generating augmented images for D:\\Masked Image Dataset\\Pangas Catfish Masked...\n"
     ]
    },
    {
     "name": "stderr",
     "output_type": "stream",
     "text": [
      "100%|███████████████████████████████████████████████████████████████████████████████| 980/980 [00:06<00:00, 141.62it/s]\n"
     ]
    },
    {
     "name": "stdout",
     "output_type": "stream",
     "text": [
      "Generating augmented images for D:\\Masked Image Dataset\\Pearl Spot Masked...\n"
     ]
    },
    {
     "name": "stderr",
     "output_type": "stream",
     "text": [
      "100%|███████████████████████████████████████████████████████████████████████████████| 990/990 [00:07<00:00, 140.71it/s]\n"
     ]
    },
    {
     "name": "stdout",
     "output_type": "stream",
     "text": [
      "Generating augmented images for D:\\Masked Image Dataset\\Pink Perch Masked...\n"
     ]
    },
    {
     "name": "stderr",
     "output_type": "stream",
     "text": [
      "100%|███████████████████████████████████████████████████████████████████████████████| 965/965 [00:06<00:00, 158.36it/s]\n"
     ]
    },
    {
     "name": "stdout",
     "output_type": "stream",
     "text": [
      "Generating augmented images for D:\\Masked Image Dataset\\Pomfret Masked...\n"
     ]
    },
    {
     "name": "stderr",
     "output_type": "stream",
     "text": [
      "100%|███████████████████████████████████████████████████████████████████████████████| 939/939 [00:06<00:00, 138.54it/s]\n"
     ]
    },
    {
     "name": "stdout",
     "output_type": "stream",
     "text": [
      "Generating augmented images for D:\\Masked Image Dataset\\Rohu Masked...\n"
     ]
    },
    {
     "name": "stderr",
     "output_type": "stream",
     "text": [
      "100%|███████████████████████████████████████████████████████████████████████████████| 970/970 [00:06<00:00, 152.53it/s]\n"
     ]
    },
    {
     "name": "stdout",
     "output_type": "stream",
     "text": [
      "Generating augmented images for D:\\Masked Image Dataset\\Sardine Fish Masked...\n"
     ]
    },
    {
     "name": "stderr",
     "output_type": "stream",
     "text": [
      "100%|███████████████████████████████████████████████████████████████████████████████| 976/976 [00:06<00:00, 150.66it/s]\n"
     ]
    },
    {
     "name": "stdout",
     "output_type": "stream",
     "text": [
      "Generating augmented images for D:\\Masked Image Dataset\\Singhara Masked...\n"
     ]
    },
    {
     "name": "stderr",
     "output_type": "stream",
     "text": [
      "100%|███████████████████████████████████████████████████████████████████████████████| 979/979 [00:06<00:00, 151.14it/s]\n"
     ]
    },
    {
     "name": "stdout",
     "output_type": "stream",
     "text": [
      "Generating augmented images for D:\\Masked Image Dataset\\Tengra Masked...\n"
     ]
    },
    {
     "name": "stderr",
     "output_type": "stream",
     "text": [
      "100%|███████████████████████████████████████████████████████████████████████████████| 994/994 [00:06<00:00, 163.00it/s]\n"
     ]
    },
    {
     "name": "stdout",
     "output_type": "stream",
     "text": [
      "Generating augmented images for D:\\Masked Image Dataset\\Tilapia Masked...\n"
     ]
    },
    {
     "name": "stderr",
     "output_type": "stream",
     "text": [
      "100%|███████████████████████████████████████████████████████████████████████████████| 993/993 [00:07<00:00, 132.57it/s]\n"
     ]
    },
    {
     "name": "stdout",
     "output_type": "stream",
     "text": [
      "Generating augmented images for D:\\Masked Image Dataset\\Tuna Masked...\n"
     ]
    },
    {
     "name": "stderr",
     "output_type": "stream",
     "text": [
      "100%|███████████████████████████████████████████████████████████████████████████████| 972/972 [00:06<00:00, 146.31it/s]\n"
     ]
    }
   ],
   "source": [
    "for fish_type_folder in os.listdir(base_folder):\n",
    "    folder_path = os.path.join(base_folder, fish_type_folder)\n",
    "    generate_augmented_images(folder_path, target_count=1000)"
   ]
  },
  {
   "cell_type": "code",
   "execution_count": null,
   "id": "88b8b2ea-7de5-4019-ab91-ca18aa77664c",
   "metadata": {},
   "outputs": [],
   "source": []
  }
 ],
 "metadata": {
  "kernelspec": {
   "display_name": "Python (gpuenv)",
   "language": "python",
   "name": "gpuenv"
  },
  "language_info": {
   "codemirror_mode": {
    "name": "ipython",
    "version": 3
   },
   "file_extension": ".py",
   "mimetype": "text/x-python",
   "name": "python",
   "nbconvert_exporter": "python",
   "pygments_lexer": "ipython3",
   "version": "3.10.14"
  }
 },
 "nbformat": 4,
 "nbformat_minor": 5
}
